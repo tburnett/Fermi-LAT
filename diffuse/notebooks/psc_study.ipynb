{
 "cells": [
  {
   "cell_type": "markdown",
   "metadata": {},
   "source": [
    "# Study diffuse fits from 4FGL-DR2"
   ]
  },
  {
   "cell_type": "code",
   "execution_count": 1,
   "metadata": {},
   "outputs": [],
   "source": [
    "sys.path[0]='/home/burnett/work/Fermi-LAT'\n",
    "from utilities import SkyDir, healpix\n",
    "from diffuse import psc_study"
   ]
  },
  {
   "cell_type": "code",
   "execution_count": 2,
   "metadata": {},
   "outputs": [
    {
     "data": {
      "text/plain": [
       " Modules                   Classes\n",
       "  diffuse.\n",
       "    psc_study               ['PSCstudy']\n",
       "    uw_model                ['UWdiffuseModel', 'CheckRatio', 'ResidualAnalysis']\n",
       "\n",
       "docspath: /home/burnett/work/docs"
      ]
     },
     "execution_count": 2,
     "metadata": {},
     "output_type": "execute_result"
    }
   ],
   "source": [
    "from jupydoc import DocMan\n",
    "dm = DocMan('diffuse'); dm"
   ]
  },
  {
   "cell_type": "code",
   "execution_count": 8,
   "metadata": {},
   "outputs": [
    {
     "name": "stdout",
     "output_type": "stream",
     "text": [
      "opening file \"/home/burnett/fermi/diffuse/gll_psc_v24.fit\"\n"
     ]
    }
   ],
   "source": [
    "#reload(psc_study); self=psc_study.PSCstudy()\n",
    "self = dm('PSCstudy')"
   ]
  },
  {
   "cell_type": "code",
   "execution_count": 9,
   "metadata": {},
   "outputs": [
    {
     "name": "stdout",
     "output_type": "stream",
     "text": [
      "Not displaying:   0.0 title_page\n",
      "Not displaying:   1.0 introduction\n",
      "Not displaying:   2.0 galactic_maps\n",
      "Not displaying:   3.0 plots\n",
      "\n",
      "------\n",
      "Document saved to \"/home/burnett/work/docs/PSCstudy\"\n"
     ]
    }
   ],
   "source": [
    "self()"
   ]
  },
  {
   "cell_type": "code",
   "execution_count": null,
   "metadata": {},
   "outputs": [],
   "source": []
  }
 ],
 "metadata": {
  "kernelspec": {
   "display_name": "Python 3",
   "language": "python",
   "name": "python3"
  },
  "language_info": {
   "codemirror_mode": {
    "name": "ipython",
    "version": 3
   },
   "file_extension": ".py",
   "mimetype": "text/x-python",
   "name": "python",
   "nbconvert_exporter": "python",
   "pygments_lexer": "ipython3",
   "version": "3.7.6"
  }
 },
 "nbformat": 4,
 "nbformat_minor": 4
}
