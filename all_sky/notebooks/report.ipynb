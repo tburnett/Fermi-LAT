{
 "cells": [
  {
   "cell_type": "code",
   "execution_count": 2,
   "metadata": {},
   "outputs": [
    {
     "name": "stdout",
     "output_type": "stream",
     "text": [
      " Modules                   Classes\n",
      "  all_sky.\n",
      "    report                  ['Report']\n",
      "\n",
      "docspath: /home/burnett/work/docs\n",
      "Sun Oct 11 12:58:06 PDT 2020\n"
     ]
    }
   ],
   "source": [
    "sys.path[0]='/home/burnett/work/Fermi-LAT'\n",
    "from utilities import SkyDir, ftp\n",
    "from jupydoc import DocMan\n",
    "dm = DocMan('all_sky'); print(dm)\n",
    "!date"
   ]
  },
  {
   "cell_type": "code",
   "execution_count": 7,
   "metadata": {},
   "outputs": [
    {
     "name": "stdout",
     "output_type": "stream",
     "text": [
      "loading/checking folders to copy from SLAC:  , 4FGL_comparison , associations , config , counts , diffuse_fits , environment , export , localization , residual_maps , sources , config.yaml, ../config.yaml -> super_config.yaml\n",
      "Not displaying:   0.0 title_page\n",
      "Not displaying:   1.0 introduction\n",
      "Not displaying:   2.0 all_sky\n",
      "Not displaying:   3.0 sources\n",
      "\n",
      "------\n",
      "Document saved to \"/home/burnett/work/docs/Report.uw8609\"\n",
      "loading/checking folders to copy from SLAC:  , 4FGL_comparison , associations , config , counts , diffuse_fits , environment , export , localization , pulsars , residual_maps , seedcheck , sources , config.yaml, ../config.yaml -> super_config.yaml\n",
      "Not displaying:   0.0 title_page\n",
      "Not displaying:   1.0 introduction\n",
      "Not displaying:   2.0 all_sky\n",
      "Not displaying:   3.0 sources\n",
      "\n",
      "------\n",
      "Document saved to \"/home/burnett/work/docs/Report.uw9011\"\n",
      "loading/checking folders to copy from SLAC:  , associations , config , counts , environment , export , localization , pulsars , residual_maps , sources , config.yaml, ../config.yaml -> super_config.yaml\n",
      "Not displaying:   0.0 title_page\n",
      "Not displaying:   1.0 introduction\n",
      "Not displaying:   2.0 all_sky\n",
      "Not displaying:   3.0 sources\n",
      "\n",
      "------\n",
      "Document saved to \"/home/burnett/work/docs/Report.uw1210\"\n"
     ]
    }
   ],
   "source": [
    "# from all_sky import report; reload(report)\n",
    "# self=report.Report()\n",
    "\n",
    "for uw in 'uw8609 uw9011 uw1210'.split():\n",
    "    self=dm('Report', version=uw)\n",
    "    self.check_slac_files()\n",
    "    self()\n"
   ]
  },
  {
   "cell_type": "code",
   "execution_count": null,
   "metadata": {},
   "outputs": [],
   "source": []
  }
 ],
 "metadata": {
  "kernelspec": {
   "display_name": "Python 3",
   "language": "python",
   "name": "python3"
  },
  "language_info": {
   "codemirror_mode": {
    "name": "ipython",
    "version": 3
   },
   "file_extension": ".py",
   "mimetype": "text/x-python",
   "name": "python",
   "nbconvert_exporter": "python",
   "pygments_lexer": "ipython3",
   "version": "3.7.6"
  }
 },
 "nbformat": 4,
 "nbformat_minor": 4
}
